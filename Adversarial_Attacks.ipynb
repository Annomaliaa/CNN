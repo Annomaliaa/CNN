{
  "cells": [
    {
      "cell_type": "markdown",
      "metadata": {
        "id": "view-in-github",
        "colab_type": "text"
      },
      "source": [
        "<a href=\"https://colab.research.google.com/github/Annomaliaa/CNN/blob/master/Adversarial_Attacks.ipynb\" target=\"_parent\"><img src=\"https://colab.research.google.com/assets/colab-badge.svg\" alt=\"Open In Colab\"/></a>"
      ]
    },
    {
      "cell_type": "code",
      "execution_count": 1,
      "metadata": {
        "id": "-NZGKsavsfo5"
      },
      "outputs": [],
      "source": [
        "#import tensorflow as tf\n",
        "#from tensorflow.keras import Sequential\n",
        "#from tensorflow.keras.callbacks import LambdaCallback \n",
        "#import tensorflow.keras.layers as L\n",
        "#from tensorflow.keras.datasets import mnist, cifar10\n",
        "import torch\n",
        "import numpy as np\n",
        "import matplotlib.pyplot as plt\n",
        "from random import randint\n",
        "from tqdm import tqdm\n",
        "import torch\n",
        "from torchvision import datasets, transforms\n",
        "import torch.nn.functional as F"
      ]
    },
    {
      "cell_type": "code",
      "source": [
        "!pip install dill"
      ],
      "metadata": {
        "id": "Zj_r6HuHtdM-",
        "colab": {
          "base_uri": "https://localhost:8080/"
        },
        "outputId": "526b69b9-010b-4756-fa4a-4a2e1d963653"
      },
      "execution_count": 2,
      "outputs": [
        {
          "output_type": "stream",
          "name": "stdout",
          "text": [
            "Looking in indexes: https://pypi.org/simple, https://us-python.pkg.dev/colab-wheels/public/simple/\n",
            "Collecting dill\n",
            "  Downloading dill-0.3.6-py3-none-any.whl (110 kB)\n",
            "\u001b[2K     \u001b[90m━━━━━━━━━━━━━━━━━━━━━━━━━━━━━━━━━━━━━━━\u001b[0m \u001b[32m110.5/110.5 kB\u001b[0m \u001b[31m5.0 MB/s\u001b[0m eta \u001b[36m0:00:00\u001b[0m\n",
            "\u001b[?25hInstalling collected packages: dill\n",
            "Successfully installed dill-0.3.6\n"
          ]
        }
      ]
    },
    {
      "cell_type": "code",
      "source": [
        "import dill"
      ],
      "metadata": {
        "id": "EWZYUGBvtpFr"
      },
      "execution_count": 3,
      "outputs": []
    },
    {
      "cell_type": "code",
      "source": [
        "from google.colab import drive\n"
      ],
      "metadata": {
        "id": "DFzl7_pMypu9"
      },
      "execution_count": 4,
      "outputs": []
    },
    {
      "cell_type": "code",
      "source": [
        "drive.mount('/content/drive')"
      ],
      "metadata": {
        "id": "GZKX-3I4ytSp",
        "colab": {
          "base_uri": "https://localhost:8080/"
        },
        "outputId": "7f824e29-9fe0-4e9b-f5df-09d1ea79d6d0"
      },
      "execution_count": 5,
      "outputs": [
        {
          "output_type": "stream",
          "name": "stdout",
          "text": [
            "Mounted at /content/drive\n"
          ]
        }
      ]
    },
    {
      "cell_type": "code",
      "source": [
        "def load_checkpoint(filepath):\n",
        "    checkpoint = torch.load(filepath, pickle_module=dill, map_location=torch.device('cpu'))\n",
        "    model = checkpoint[\"model\"]\n",
        "    model.load_state_dict(checkpoint[\"state_dict\"]) \n",
        "    return model\n"
      ],
      "metadata": {
        "id": "FnaDHj5a741H"
      },
      "execution_count": 6,
      "outputs": []
    },
    {
      "cell_type": "code",
      "source": [
        "def print_shapes(x_train, x_test, y_train, y_test):\n",
        "  print(f\"x_train: {x_train.shape}\\n\"\\\n",
        "      f\"x_test: {x_test.shape}\\n\"\\\n",
        "      f\"y_train: {y_train.shape}\\n\"\\\n",
        "      f\"y_test: {y_test.shape}\\n\")"
      ],
      "metadata": {
        "id": "-3NuVzoXx1CL"
      },
      "execution_count": 7,
      "outputs": []
    },
    {
      "cell_type": "code",
      "source": [
        "  transform_train = transforms.Compose([\n",
        "          transforms.RandomCrop(32, padding=4),\n",
        "          transforms.RandomHorizontalFlip(),\n",
        "          transforms.ToTensor(),\n",
        "          transforms.Normalize(mean=[0.485, 0.456, 0.406],\n",
        "                                     std=[0.229, 0.224, 0.225]),\n",
        "      ])\n",
        "\n",
        "  transform_test = transforms.Compose([\n",
        "      transforms.ToTensor(),\n",
        "      transforms.Normalize(mean=[0.485, 0.456, 0.406],\n",
        "                                     std=[0.229, 0.224, 0.225]),\n",
        "  ])"
      ],
      "metadata": {
        "id": "IIMnnmjcF8jD"
      },
      "execution_count": 8,
      "outputs": []
    },
    {
      "cell_type": "code",
      "source": [
        "dataloader = datasets.CIFAR10"
      ],
      "metadata": {
        "id": "ZuLFYaCVGVEM"
      },
      "execution_count": 9,
      "outputs": []
    },
    {
      "cell_type": "code",
      "source": [
        "trainset = dataloader(root='./data', train=True, download=True, transform=transform_train)\n",
        "#trainset = (x_train, y_train)\n",
        "testset = dataloader(root='./data', train=False, download=False, transform=transform_test)\n",
        "#testset = (x_test, y_test)\n",
        "x_train = trainset.data\n",
        "y_train = trainset.targets\n",
        "x_test = testset.data\n",
        "y_test = testset.targets"
      ],
      "metadata": {
        "id": "O7qnk_q4xgYd",
        "colab": {
          "base_uri": "https://localhost:8080/"
        },
        "outputId": "5a107798-5e64-4b8a-a26e-1f7b1c20612b"
      },
      "execution_count": 10,
      "outputs": [
        {
          "output_type": "stream",
          "name": "stdout",
          "text": [
            "Downloading https://www.cs.toronto.edu/~kriz/cifar-10-python.tar.gz to ./data/cifar-10-python.tar.gz\n"
          ]
        },
        {
          "output_type": "stream",
          "name": "stderr",
          "text": [
            "100%|██████████| 170498071/170498071 [00:14<00:00, 11725421.02it/s]\n"
          ]
        },
        {
          "output_type": "stream",
          "name": "stdout",
          "text": [
            "Extracting ./data/cifar-10-python.tar.gz to ./data\n"
          ]
        }
      ]
    },
    {
      "cell_type": "code",
      "source": [
        "import torch.utils.data as data\n",
        "BATCH_SIZE = 128\n",
        "trainloader = data.DataLoader(trainset, batch_size=BATCH_SIZE, shuffle=True, num_workers=2, pin_memory=True)\n",
        "testloader = data.DataLoader(testset, batch_size=BATCH_SIZE, shuffle=False, num_workers=2, pin_memory=True)"
      ],
      "metadata": {
        "id": "4ALS8nE2L05S"
      },
      "execution_count": 11,
      "outputs": []
    },
    {
      "cell_type": "code",
      "source": [
        "labels = 10\n",
        "label_names = ['airplane', 'car', 'bird', 'cat', 'deer', 'dog', 'frog',\n",
        "               'horse', 'ship', 'truck']"
      ],
      "metadata": {
        "id": "O_miBw3St2VV"
      },
      "execution_count": 12,
      "outputs": []
    },
    {
      "cell_type": "code",
      "source": [
        "# Preprocessing images and labels\n",
        "height, width, channels = 32, 32, 3\n",
        "nb_classes = 10 "
      ],
      "metadata": {
        "id": "TZjzbojExV4Z"
      },
      "execution_count": 13,
      "outputs": []
    },
    {
      "cell_type": "code",
      "source": [
        "# Convert y_train to one-hot encoded format\n",
        "y_train = torch.nn.functional.one_hot(torch.tensor(y_train), num_classes=nb_classes).numpy()\n",
        "\n",
        "# Convert y_test to one-hot encoded format\n",
        "y_test = torch.nn.functional.one_hot(torch.tensor(y_test), num_classes=nb_classes).numpy()\n",
        "\n",
        "print_shapes(x_train, x_test, y_train, y_test)\n",
        "\n",
        "x_train = x_train / 255\n",
        "x_test = x_test / 255\n",
        "\n",
        "x_train = x_train.reshape((-1, height, width, channels))\n",
        "x_test = x_test.reshape((-1, height, width, channels))"
      ],
      "metadata": {
        "colab": {
          "base_uri": "https://localhost:8080/"
        },
        "id": "wTuDKl7vf0Ez",
        "outputId": "b55c658f-2a77-4472-a62f-0060b4795614"
      },
      "execution_count": 14,
      "outputs": [
        {
          "output_type": "stream",
          "name": "stdout",
          "text": [
            "x_train: (50000, 32, 32, 3)\n",
            "x_test: (10000, 32, 32, 3)\n",
            "y_train: (50000, 10)\n",
            "y_test: (10000, 10)\n",
            "\n"
          ]
        }
      ]
    },
    {
      "cell_type": "code",
      "source": [
        "NET_NAME = \"resnet20-decomp-TT\"\n",
        "WEIGHTS_PATH = f'/content/drive/My Drive/CIFAR10/fine_tuned/{NET_NAME}.pth'\n",
        "model = load_checkpoint(WEIGHTS_PATH)"
      ],
      "metadata": {
        "id": "uFK0ot5f8Ar7"
      },
      "execution_count": 15,
      "outputs": []
    },
    {
      "cell_type": "code",
      "source": [
        "from PIL import Image\n",
        "import torchvision.transforms as transforms\n",
        "import torchvision.models as models\n",
        "import torch\n",
        "\n",
        "# Load the pre-trained ResNet-18 model\n",
        "model = model\n",
        "device = torch.device('cuda' if torch.cuda.is_available() else 'cpu')\n",
        "model = model.to(device)\n",
        "# Load the image of frog or dog\n",
        "image_path = f'/content/drive/My Drive/CIFAR10/ATMC/emanuel-AKYjr-kmYtQ-unsplash.jpg'\n",
        "image = Image.open(image_path)\n",
        "\n",
        "print(image.size)\n",
        "\n",
        "# Check the number of channels in the image\n",
        "num_channels = len(image.getbands())\n",
        "\n",
        "transform = transforms.Compose([\n",
        "      transforms.Resize((32, 32)),\n",
        "      transforms.ToTensor(),\n",
        "      transforms.Normalize(mean=[0.485, 0.456, 0.406],\n",
        "                                     std=[0.229, 0.224, 0.225]),\n",
        "  ])\n",
        "\n",
        "\n",
        "# Apply the transformations\n",
        "\n",
        "input_image = transform(image).unsqueeze(0)\n",
        "image = input_image.to(device)\n",
        "\n",
        "model.eval()\n",
        "\n",
        "\n",
        "\n",
        "# Make predictions\n",
        "with torch.no_grad():\n",
        "    predictions = model(image)\n",
        "\n",
        "label = ['airplane', 'car', 'bird', 'cat', 'deer', 'dog', 'frog',\n",
        "               'horse', 'ship', 'truck']\n",
        "\n",
        "\n",
        "print(predictions)\n",
        "predicted_class = torch.argmax(predictions).item()\n",
        "\n",
        "print(predicted_class)"
      ],
      "metadata": {
        "colab": {
          "base_uri": "https://localhost:8080/"
        },
        "id": "XXIoELCT2X0G",
        "outputId": "b683c230-0f0d-4eb1-e33a-1e8ba2f944c4"
      },
      "execution_count": 22,
      "outputs": [
        {
          "output_type": "stream",
          "name": "stdout",
          "text": [
            "(4068, 2199)\n",
            "tensor([[ 8.5302, -4.3004,  5.5711, -0.9800,  1.9730, -3.9284, -1.3962, -3.6276,\n",
            "         -0.1324, -1.7095]], device='cuda:0')\n",
            "0\n"
          ]
        }
      ]
    },
    {
      "cell_type": "code",
      "source": [
        "import torch\n",
        "import torch.nn.functional as F\n",
        "\n",
        "# Function to calculate adversary noise\n",
        "def generate_adversary(image, label):\n",
        "    device = torch.device('cpu') \n",
        "    image = torch.from_numpy(image)\n",
        "    image = image.to(torch.float32)\n",
        "    image = image.clone().detach().requires_grad_(True)\n",
        "\n",
        "    #Image shape expected input[1, 32, 32, 3] to have 3 channels, but got 32 channels \n",
        "    image = torch.transpose(image, 1, 3)\n",
        "    prediction = model(image)\n",
        "    #Prediction and label shapes need to match\n",
        "    print(\"Predictions\",prediction.shape)\n",
        "    print(\"Labels\", label.size)\n",
        "    label = torch.from_numpy(label)\n",
        "    label = label.to(torch.float32)\n",
        "\n",
        "    loss = F.mse_loss(prediction, label, size_average=None, reduce=None, reduction='mean')\n",
        "\n",
        "    print(\"Loss\", loss)\n",
        "\n",
        "    print(\"Predictions:\", prediction.dtype)\n",
        "    print(\"Label:\", label.dtype)\n",
        "    print(\"Loss:\", loss.dtype)\n",
        "    \n",
        "    print(\"Image:\", image.dtype)\n",
        "\n",
        "\n",
        "    gradient = torch.autograd.grad(loss, image)[0]\n",
        "\n",
        "    print(\"Gradient:\", gradient.dtype)\n",
        "\n",
        "    print(\"Gradient\", gradient.size)\n",
        "    sign_grad = torch.sign(gradient)\n",
        "\n",
        "    return sign_grad"
      ],
      "metadata": {
        "id": "YRULWTJGwu6b"
      },
      "execution_count": 17,
      "outputs": []
    },
    {
      "cell_type": "code",
      "source": [
        "rand_idx = randint(0,49999)\n",
        "image = x_train[rand_idx].reshape((1, height, width, channels))\n",
        "label = y_train[rand_idx]\n",
        "print(label)\n",
        "\n",
        "labels = ['airplane', 'car', 'bird', 'cat', 'deer', 'dog', 'frog',\n",
        "               'horse', 'ship', 'truck']\n",
        "\n",
        "matching_indices = np.where(label == 1)[0]\n",
        "if len(matching_indices) > 0:\n",
        "    predicted_label = labels[matching_indices[0]]\n",
        "    \n",
        "    print(f'Prediction from CNN: {predicted_label}')\n",
        "else:\n",
        "    print('No matching prediction found')\n",
        "\n",
        "plt.figure(figsize=(3,3))\n",
        "plt.imshow(image.reshape((height, width, channels)))\n",
        "plt.show()"
      ],
      "metadata": {
        "id": "Kyx-dyGnxBYJ",
        "colab": {
          "base_uri": "https://localhost:8080/",
          "height": 328
        },
        "outputId": "7e699eea-588c-4ecc-924e-298a78dc5afa"
      },
      "execution_count": 18,
      "outputs": [
        {
          "output_type": "stream",
          "name": "stdout",
          "text": [
            "[0 0 0 0 1 0 0 0 0 0]\n",
            "Prediction from CNN: deer\n"
          ]
        },
        {
          "output_type": "display_data",
          "data": {
            "text/plain": [
              "<Figure size 300x300 with 1 Axes>"
            ],
            "image/png": "[encoded data removed]"
          },
          "metadata": {}
        }
      ]
    },
    {
      "cell_type": "code",
      "source": [
        "# Adding the adversary noise to image\n",
        "perturbations = generate_adversary(image,label).numpy()"
      ],
      "metadata": {
        "colab": {
          "base_uri": "https://localhost:8080/",
          "height": 467
        },
        "id": "34y0UXJ6a4AJ",
        "outputId": "f0325c40-8612-47e2-cc57-8bb5ee70ad6c"
      },
      "execution_count": 19,
      "outputs": [
        {
          "output_type": "error",
          "ename": "RuntimeError",
          "evalue": "ignored",
          "traceback": [
            "\u001b[0;31m---------------------------------------------------------------------------\u001b[0m",
            "\u001b[0;31mRuntimeError\u001b[0m                              Traceback (most recent call last)",
            "\u001b[0;32m<ipython-input-19-41e8377dd999>\u001b[0m in \u001b[0;36m<cell line: 2>\u001b[0;34m()\u001b[0m\n\u001b[1;32m      1\u001b[0m \u001b[0;31m# Adding the adversary noise to image\u001b[0m\u001b[0;34m\u001b[0m\u001b[0;34m\u001b[0m\u001b[0m\n\u001b[0;32m----> 2\u001b[0;31m \u001b[0mperturbations\u001b[0m \u001b[0;34m=\u001b[0m \u001b[0mgenerate_adversary\u001b[0m\u001b[0;34m(\u001b[0m\u001b[0mimage\u001b[0m\u001b[0;34m,\u001b[0m\u001b[0mlabel\u001b[0m\u001b[0;34m)\u001b[0m\u001b[0;34m.\u001b[0m\u001b[0mnumpy\u001b[0m\u001b[0;34m(\u001b[0m\u001b[0;34m)\u001b[0m\u001b[0;34m\u001b[0m\u001b[0;34m\u001b[0m\u001b[0m\n\u001b[0m",
            "\u001b[0;32m<ipython-input-17-89d6b2b5f0b9>\u001b[0m in \u001b[0;36mgenerate_adversary\u001b[0;34m(image, label)\u001b[0m\n\u001b[1;32m     11\u001b[0m     \u001b[0;31m#Image shape expected input[1, 32, 32, 3] to have 3 channels, but got 32 channels\u001b[0m\u001b[0;34m\u001b[0m\u001b[0;34m\u001b[0m\u001b[0m\n\u001b[1;32m     12\u001b[0m     \u001b[0mimage\u001b[0m \u001b[0;34m=\u001b[0m \u001b[0mtorch\u001b[0m\u001b[0;34m.\u001b[0m\u001b[0mtranspose\u001b[0m\u001b[0;34m(\u001b[0m\u001b[0mimage\u001b[0m\u001b[0;34m,\u001b[0m \u001b[0;36m1\u001b[0m\u001b[0;34m,\u001b[0m \u001b[0;36m3\u001b[0m\u001b[0;34m)\u001b[0m\u001b[0;34m\u001b[0m\u001b[0;34m\u001b[0m\u001b[0m\n\u001b[0;32m---> 13\u001b[0;31m     \u001b[0mprediction\u001b[0m \u001b[0;34m=\u001b[0m \u001b[0mmodel\u001b[0m\u001b[0;34m(\u001b[0m\u001b[0mimage\u001b[0m\u001b[0;34m)\u001b[0m\u001b[0;34m\u001b[0m\u001b[0;34m\u001b[0m\u001b[0m\n\u001b[0m\u001b[1;32m     14\u001b[0m     \u001b[0;31m#Prediction and label shapes need to match\u001b[0m\u001b[0;34m\u001b[0m\u001b[0;34m\u001b[0m\u001b[0m\n\u001b[1;32m     15\u001b[0m     \u001b[0mprint\u001b[0m\u001b[0;34m(\u001b[0m\u001b[0;34m\"Predictions\"\u001b[0m\u001b[0;34m,\u001b[0m\u001b[0mprediction\u001b[0m\u001b[0;34m.\u001b[0m\u001b[0mshape\u001b[0m\u001b[0;34m)\u001b[0m\u001b[0;34m\u001b[0m\u001b[0;34m\u001b[0m\u001b[0m\n",
            "\u001b[0;32m/usr/local/lib/python3.10/dist-packages/torch/nn/modules/module.py\u001b[0m in \u001b[0;36m_call_impl\u001b[0;34m(self, *args, **kwargs)\u001b[0m\n\u001b[1;32m   1499\u001b[0m                 \u001b[0;32mor\u001b[0m \u001b[0m_global_backward_pre_hooks\u001b[0m \u001b[0;32mor\u001b[0m \u001b[0m_global_backward_hooks\u001b[0m\u001b[0;34m\u001b[0m\u001b[0;34m\u001b[0m\u001b[0m\n\u001b[1;32m   1500\u001b[0m                 or _global_forward_hooks or _global_forward_pre_hooks):\n\u001b[0;32m-> 1501\u001b[0;31m             \u001b[0;32mreturn\u001b[0m \u001b[0mforward_call\u001b[0m\u001b[0;34m(\u001b[0m\u001b[0;34m*\u001b[0m\u001b[0margs\u001b[0m\u001b[0;34m,\u001b[0m \u001b[0;34m**\u001b[0m\u001b[0mkwargs\u001b[0m\u001b[0;34m)\u001b[0m\u001b[0;34m\u001b[0m\u001b[0;34m\u001b[0m\u001b[0m\n\u001b[0m\u001b[1;32m   1502\u001b[0m         \u001b[0;31m# Do not call functions when jit is used\u001b[0m\u001b[0;34m\u001b[0m\u001b[0;34m\u001b[0m\u001b[0m\n\u001b[1;32m   1503\u001b[0m         \u001b[0mfull_backward_hooks\u001b[0m\u001b[0;34m,\u001b[0m \u001b[0mnon_full_backward_hooks\u001b[0m \u001b[0;34m=\u001b[0m \u001b[0;34m[\u001b[0m\u001b[0;34m]\u001b[0m\u001b[0;34m,\u001b[0m \u001b[0;34m[\u001b[0m\u001b[0;34m]\u001b[0m\u001b[0;34m\u001b[0m\u001b[0;34m\u001b[0m\u001b[0m\n",
            "\u001b[0;32mC:\\Users\\Ania\\Pytong\\lib\\site-packages\\torch\\nn\\parallel\\data_parallel.py\u001b[0m in \u001b[0;36mforward\u001b[0;34m(self, *inputs, **kwargs)\u001b[0m\n",
            "\u001b[0;32m/usr/local/lib/python3.10/dist-packages/torch/nn/modules/module.py\u001b[0m in \u001b[0;36m_call_impl\u001b[0;34m(self, *args, **kwargs)\u001b[0m\n\u001b[1;32m   1499\u001b[0m                 \u001b[0;32mor\u001b[0m \u001b[0m_global_backward_pre_hooks\u001b[0m \u001b[0;32mor\u001b[0m \u001b[0m_global_backward_hooks\u001b[0m\u001b[0;34m\u001b[0m\u001b[0;34m\u001b[0m\u001b[0m\n\u001b[1;32m   1500\u001b[0m                 or _global_forward_hooks or _global_forward_pre_hooks):\n\u001b[0;32m-> 1501\u001b[0;31m             \u001b[0;32mreturn\u001b[0m \u001b[0mforward_call\u001b[0m\u001b[0;34m(\u001b[0m\u001b[0;34m*\u001b[0m\u001b[0margs\u001b[0m\u001b[0;34m,\u001b[0m \u001b[0;34m**\u001b[0m\u001b[0mkwargs\u001b[0m\u001b[0;34m)\u001b[0m\u001b[0;34m\u001b[0m\u001b[0;34m\u001b[0m\u001b[0m\n\u001b[0m\u001b[1;32m   1502\u001b[0m         \u001b[0;31m# Do not call functions when jit is used\u001b[0m\u001b[0;34m\u001b[0m\u001b[0;34m\u001b[0m\u001b[0m\n\u001b[1;32m   1503\u001b[0m         \u001b[0mfull_backward_hooks\u001b[0m\u001b[0;34m,\u001b[0m \u001b[0mnon_full_backward_hooks\u001b[0m \u001b[0;34m=\u001b[0m \u001b[0;34m[\u001b[0m\u001b[0;34m]\u001b[0m\u001b[0;34m,\u001b[0m \u001b[0;34m[\u001b[0m\u001b[0;34m]\u001b[0m\u001b[0;34m\u001b[0m\u001b[0;34m\u001b[0m\u001b[0m\n",
            "\u001b[0;32mC:\\Users\\Ania\\PycharmProjects\\pythonProject5\\Resnets_20.py\u001b[0m in \u001b[0;36mforward\u001b[0;34m(self, x)\u001b[0m\n",
            "\u001b[0;32m/usr/local/lib/python3.10/dist-packages/torch/nn/modules/module.py\u001b[0m in \u001b[0;36m_call_impl\u001b[0;34m(self, *args, **kwargs)\u001b[0m\n\u001b[1;32m   1499\u001b[0m                 \u001b[0;32mor\u001b[0m \u001b[0m_global_backward_pre_hooks\u001b[0m \u001b[0;32mor\u001b[0m \u001b[0m_global_backward_hooks\u001b[0m\u001b[0;34m\u001b[0m\u001b[0;34m\u001b[0m\u001b[0m\n\u001b[1;32m   1500\u001b[0m                 or _global_forward_hooks or _global_forward_pre_hooks):\n\u001b[0;32m-> 1501\u001b[0;31m             \u001b[0;32mreturn\u001b[0m \u001b[0mforward_call\u001b[0m\u001b[0;34m(\u001b[0m\u001b[0;34m*\u001b[0m\u001b[0margs\u001b[0m\u001b[0;34m,\u001b[0m \u001b[0;34m**\u001b[0m\u001b[0mkwargs\u001b[0m\u001b[0;34m)\u001b[0m\u001b[0;34m\u001b[0m\u001b[0;34m\u001b[0m\u001b[0m\n\u001b[0m\u001b[1;32m   1502\u001b[0m         \u001b[0;31m# Do not call functions when jit is used\u001b[0m\u001b[0;34m\u001b[0m\u001b[0;34m\u001b[0m\u001b[0m\n\u001b[1;32m   1503\u001b[0m         \u001b[0mfull_backward_hooks\u001b[0m\u001b[0;34m,\u001b[0m \u001b[0mnon_full_backward_hooks\u001b[0m \u001b[0;34m=\u001b[0m \u001b[0;34m[\u001b[0m\u001b[0;34m]\u001b[0m\u001b[0;34m,\u001b[0m \u001b[0;34m[\u001b[0m\u001b[0;34m]\u001b[0m\u001b[0;34m\u001b[0m\u001b[0;34m\u001b[0m\u001b[0m\n",
            "\u001b[0;32m/usr/local/lib/python3.10/dist-packages/torch/nn/modules/conv.py\u001b[0m in \u001b[0;36mforward\u001b[0;34m(self, input)\u001b[0m\n\u001b[1;32m    461\u001b[0m \u001b[0;34m\u001b[0m\u001b[0m\n\u001b[1;32m    462\u001b[0m     \u001b[0;32mdef\u001b[0m \u001b[0mforward\u001b[0m\u001b[0;34m(\u001b[0m\u001b[0mself\u001b[0m\u001b[0;34m,\u001b[0m \u001b[0minput\u001b[0m\u001b[0;34m:\u001b[0m \u001b[0mTensor\u001b[0m\u001b[0;34m)\u001b[0m \u001b[0;34m->\u001b[0m \u001b[0mTensor\u001b[0m\u001b[0;34m:\u001b[0m\u001b[0;34m\u001b[0m\u001b[0;34m\u001b[0m\u001b[0m\n\u001b[0;32m--> 463\u001b[0;31m         \u001b[0;32mreturn\u001b[0m \u001b[0mself\u001b[0m\u001b[0;34m.\u001b[0m\u001b[0m_conv_forward\u001b[0m\u001b[0;34m(\u001b[0m\u001b[0minput\u001b[0m\u001b[0;34m,\u001b[0m \u001b[0mself\u001b[0m\u001b[0;34m.\u001b[0m\u001b[0mweight\u001b[0m\u001b[0;34m,\u001b[0m \u001b[0mself\u001b[0m\u001b[0;34m.\u001b[0m\u001b[0mbias\u001b[0m\u001b[0;34m)\u001b[0m\u001b[0;34m\u001b[0m\u001b[0;34m\u001b[0m\u001b[0m\n\u001b[0m\u001b[1;32m    464\u001b[0m \u001b[0;34m\u001b[0m\u001b[0m\n\u001b[1;32m    465\u001b[0m \u001b[0;32mclass\u001b[0m \u001b[0mConv3d\u001b[0m\u001b[0;34m(\u001b[0m\u001b[0m_ConvNd\u001b[0m\u001b[0;34m)\u001b[0m\u001b[0;34m:\u001b[0m\u001b[0;34m\u001b[0m\u001b[0;34m\u001b[0m\u001b[0m\n",
            "\u001b[0;32m/usr/local/lib/python3.10/dist-packages/torch/nn/modules/conv.py\u001b[0m in \u001b[0;36m_conv_forward\u001b[0;34m(self, input, weight, bias)\u001b[0m\n\u001b[1;32m    457\u001b[0m                             \u001b[0mweight\u001b[0m\u001b[0;34m,\u001b[0m \u001b[0mbias\u001b[0m\u001b[0;34m,\u001b[0m \u001b[0mself\u001b[0m\u001b[0;34m.\u001b[0m\u001b[0mstride\u001b[0m\u001b[0;34m,\u001b[0m\u001b[0;34m\u001b[0m\u001b[0;34m\u001b[0m\u001b[0m\n\u001b[1;32m    458\u001b[0m                             _pair(0), self.dilation, self.groups)\n\u001b[0;32m--> 459\u001b[0;31m         return F.conv2d(input, weight, bias, self.stride,\n\u001b[0m\u001b[1;32m    460\u001b[0m                         self.padding, self.dilation, self.groups)\n\u001b[1;32m    461\u001b[0m \u001b[0;34m\u001b[0m\u001b[0m\n",
            "\u001b[0;31mRuntimeError\u001b[0m: Expected all tensors to be on the same device, but found at least two devices, cpu and cuda:0! (when checking argument for argument weight in method wrapper_CUDA___slow_conv2d_forward)"
          ]
        }
      ]
    },
    {
      "cell_type": "code",
      "source": [
        "# Convert perturbations to a PyTorch tensor\n",
        "perturbations = torch.from_numpy(perturbations)\n",
        "perturbations = torch.transpose(perturbations, 1, 3)\n",
        "perturbations = perturbations * 0.1\n",
        "\n",
        "image = torch.from_numpy(image)\n",
        "\n",
        "print(type(image))  # <class 'torch.Tensor'>\n",
        "print(type(perturbations))  # <class 'torch.Tensor'>\n",
        "\n",
        "adversarial = image + perturbations\n",
        "\n",
        "print(adversarial.shape)\n",
        "print(image.shape)"
      ],
      "metadata": {
        "id": "dMyaxJd6zETs"
      },
      "execution_count": null,
      "outputs": []
    },
    {
      "cell_type": "code",
      "source": [
        "# Comparing both images \n",
        "fig, (ax1,ax2) = plt.subplots(1, 2, sharey=True)\n",
        "ax1.imshow(image.reshape(height,width, channels))\n",
        "ax1.set_title(\"Original Image\")\n",
        "adversarial = adversarial.reshape(height,width, channels)\n",
        "ax2.imshow((adversarial))\n",
        "ax2.set_title(\"Image with Adversary\")\n",
        "plt.show()\n"
      ],
      "metadata": {
        "id": "lJfQp3n-zF4o"
      },
      "execution_count": null,
      "outputs": []
    },
    {
      "cell_type": "code",
      "source": [
        "# Obtain the predictions\n",
        "image = image.reshape(1, channels, height, width)\n",
        "print(type(image))\n",
        "print(image.shape)\n",
        "normal_predictions = model(image.float()).argmax(dim=1)\n",
        "adversarial = adversarial.reshape(1, channels, height, width)\n",
        "adversary_predictions = model(adversarial.float()).argmax(dim=1)\n",
        "\n",
        "# Convert predictions to label names\n",
        "normal_label = label_names[normal_predictions.item()]\n",
        "adversary_label = label_names[adversary_predictions.item()]\n",
        "\n",
        "# Print the predictions\n",
        "print(f'Normal Image Prediction: {normal_label}')\n",
        "print(f\"Adversary Prediction: {adversary_label}\")"
      ],
      "metadata": {
        "id": "_uYApNFekl-H"
      },
      "execution_count": null,
      "outputs": []
    },
    {
      "cell_type": "code",
      "source": [
        "# Display the images and their predicted labels\n",
        "fig, (ax1, ax2) = plt.subplots(1, 2, sharey=True)\n",
        "ax1.imshow(image.reshape(height,width, channels))\n",
        "ax1.set_title(f\"Original: {normal_label}\")\n",
        "ax2.imshow(adversarial.reshape(height,width, channels))\n",
        "ax2.set_title(f\"Adversarial: {adversary_label}\")\n",
        "plt.show()"
      ],
      "metadata": {
        "id": "qa_O4MD0Ardx"
      },
      "execution_count": null,
      "outputs": []
    },
    {
      "cell_type": "code",
      "source": [
        "# Function to generate batch of images with adversary\n",
        "def adversary_generator(batch_size):\n",
        "  while True:\n",
        "    images = []\n",
        "    labels = []\n",
        "    for batch in range(batch_size):\n",
        "      N = randint(0, 49999)\n",
        "      label = y_train[N]\n",
        "      image = x_train[N].reshape((1,height, width, channels))\n",
        "\n",
        "      perturbations = generate_adversary(image, label).numpy()\n",
        "\n",
        "      print(image.shape, label.shape)\n",
        "      print(type(image))\n",
        "      image = np.swapaxes(image, 1, 3)\n",
        "\n",
        "      adversarial = image + (perturbations * 0.05)\n",
        "\n",
        "      images.append(adversarial)\n",
        "      labels.append(label)\n",
        "\n",
        "      if batch%1000 == 0:\n",
        "        print(f\"{batch} images generated\")\n",
        "\n",
        "    images = np.asarray(images).reshape((batch_size, height, width, channels))\n",
        "    labels = np.asarray(labels)\n",
        "\n",
        "    yield images, labels"
      ],
      "metadata": {
        "id": "3kKytyZ5zNwy"
      },
      "execution_count": null,
      "outputs": []
    },
    {
      "cell_type": "code",
      "source": [
        "import os \n",
        "directory = '/content/drive/My Drive/CIFAR10/ATMC/'\n",
        "filename = 'adversarial_dataset.pth'\n",
        "# Create the directory if it doesn't exist\n",
        "os.makedirs(directory, exist_ok=True)"
      ],
      "metadata": {
        "id": "jZ-K1BW1pa03"
      },
      "execution_count": null,
      "outputs": []
    },
    {
      "cell_type": "code",
      "source": [
        "x_adversarial, y_adversarial = next(adversary_generator(10000))\n",
        "torch.save((x_adversarial, y_adversarial), os.path.join(directory, filename))"
      ],
      "metadata": {
        "id": "qTXBHPjwzWSV"
      },
      "execution_count": null,
      "outputs": []
    },
    {
      "cell_type": "code",
      "source": [
        "\n",
        "model_filepath = os.path.join(directory, filename)\n",
        "adversarial_dataset = torch.load(model_filepath)"
      ],
      "metadata": {
        "id": "c_g7q6ie5zXy"
      },
      "execution_count": null,
      "outputs": []
    },
    {
      "cell_type": "code",
      "source": [
        "x_adversarial, y_adversarial = adversarial_dataset\n",
        "import torch \n",
        "import numpy\n",
        "print(x_adversarial.shape)\n",
        "print(y_adversarial.shape)\n",
        "\n",
        "labels_names = ['airplane', 'car', 'bird', 'cat', 'deer', 'dog', 'frog',\n",
        "               'horse', 'ship', 'truck']\n",
        "\n",
        "rand_idx = randint(0,9999)\n",
        "image = x_adversarial[rand_idx].reshape((1, height, width, channels))\n",
        "label = y_adversarial[rand_idx]\n",
        "\n",
        "matching_indices = np.where(label == 1)[0]\n",
        "if len(matching_indices) > 0:\n",
        "    predicted_label = label_names[matching_indices[0]]\n",
        "    print(f'Prediction from CNN: {predicted_label}')\n",
        "else:\n",
        "    print('No matching prediction found')\n",
        "\n",
        "plt.figure(figsize=(3,3))\n",
        "plt.imshow(image.reshape((height, width, channels)))\n",
        "plt.show()\n",
        "# Calculate the accuracy\n",
        "\n",
        "batch_images = x_adversarial\n",
        "batch_labels = y_adversarial[1]\n",
        "\n",
        "batch_images = torch.from_numpy(batch_images)\n",
        "batch_images = torch.transpose(batch_images, 1, 3)\n",
        "batch_images = batch_images.to(torch.float32)\n",
        "\n",
        "\n",
        "# Forward pass to get the predictions\n",
        "batch_predictions = model(batch_images)\n",
        "\n",
        "# Calculate the number of correct predictions\n",
        "_, batch_predicted_labels = torch.max(batch_predictions, dim=1)\n",
        "correct_predictions += torch.sum(batch_predicted_labels == batch_labels).item()\n",
        "\n",
        "accuracy = correct_predictions / total_samples\n",
        "\n",
        "# Print the accuracy\n",
        "print(f'Accuracy: {accuracy:.2%}')"
      ],
      "metadata": {
        "id": "KvP4c-gSt6Ay"
      },
      "execution_count": null,
      "outputs": []
    }
  ],
  "metadata": {
    "colab": {
      "provenance": [],
      "gpuType": "T4",
      "authorship_tag": "ABX9TyME4nruz1xgmZxTiLKEBVSB",
      "include_colab_link": true
    },
    "kernelspec": {
      "display_name": "Python 3",
      "name": "python3"
    },
    "language_info": {
      "name": "python"
    },
    "accelerator": "GPU"
  },
  "nbformat": 4,
  "nbformat_minor": 0
}